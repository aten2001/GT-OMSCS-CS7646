{
 "cells": [
  {
   "cell_type": "code",
   "execution_count": 7,
   "metadata": {
    "collapsed": true
   },
   "outputs": [],
   "source": [
    "import pandas as pd\n",
    "import matplotlib.pyplot as plt\n",
    "import numpy as np\n",
    "import datetime as dt\n",
    "import os\n",
    "\n",
    "%matplotlib inline"
   ]
  },
  {
   "cell_type": "code",
   "execution_count": 8,
   "metadata": {
    "collapsed": true
   },
   "outputs": [],
   "source": [
    "def symbol_to_path(symbol, base_dir=None):\n",
    "    \"\"\"Return CSV file path given ticker symbol.\"\"\"\n",
    "    if base_dir is None:\n",
    "        base_dir = os.environ.get(\"MARKET_DATA_DIR\", '../ML4T_2017Summer-master/data/')\n",
    "    return os.path.join(base_dir, \"{}.csv\".format(str(symbol)))"
   ]
  },
  {
   "cell_type": "code",
   "execution_count": 9,
   "metadata": {
    "collapsed": true
   },
   "outputs": [],
   "source": [
    "def get_data(symbols, dates, addSPY=True, colname = 'Adj Close'):\n",
    "    \"\"\"Read stock data (adjusted close) for given symbols from CSV files.\"\"\"\n",
    "    df = pd.DataFrame(index=dates)\n",
    "    if addSPY and 'SPY' not in symbols:  # add SPY for reference, if absent\n",
    "        symbols = ['SPY'] + symbols\n",
    "\n",
    "    for symbol in symbols:\n",
    "        df_temp = pd.read_csv(symbol_to_path(symbol), index_col='Date',\n",
    "                parse_dates=True, usecols=['Date', colname], na_values=['nan'])\n",
    "        df_temp = df_temp.rename(columns={colname: symbol})\n",
    "        df = df.join(df_temp)\n",
    "        if symbol == 'SPY':  # drop dates SPY did not trade\n",
    "            df = df.dropna(subset=[\"SPY\"])\n",
    "\n",
    "    return df"
   ]
  },
  {
   "cell_type": "code",
   "execution_count": 10,
   "metadata": {
    "collapsed": false
   },
   "outputs": [],
   "source": [
    "def assess_portfolio(sd = dt.datetime(2008,1,1), ed = dt.datetime(2009,1,1), \\\n",
    "    syms = ['GOOG','AAPL','GLD','XOM'], \\\n",
    "    allocs=[0.1,0.2,0.3,0.4], \\\n",
    "    sv=1000000, rfr=0.0, sf=252.0, \\\n",
    "    gen_plot=False):\n",
    "\n",
    "    # Read in adjusted closing prices for given symbols, date range\n",
    "    dates = pd.date_range(sd, ed)\n",
    "    prices_all = get_data(syms, dates)  # automatically adds SPY\n",
    "    prices = prices_all[syms]  # only portfolio symbols\n",
    "    prices_SPY = prices_all['SPY']  # only SPY, for comparison later\n",
    "\n",
    "    # Get daily portfolio value   ******\n",
    "    normed = prices / prices.ix[0,:]  # normalizes data in each column\n",
    "    alloced = normed * allocs   # applies allocation of starting value invested to each symbol on each day\n",
    "    pos_vals = alloced * sv    # applies starting value invested to each symbol\n",
    "    port_val = pos_vals.sum(axis=1).round(2)  # calculates total portfolio value each day\n",
    "    \n",
    "    \n",
    "    # Calculate Daily Returns   ******  \n",
    "    daily_returns = (port_val / port_val.shift(1)) - 1\n",
    "    daily_returns.ix[0] = 0\n",
    "    daily_returns = daily_returns.ix[1:]\n",
    "\n",
    "    \n",
    "    # Get portfolio statistics (note: std_daily_ret = volatility)   ******\n",
    "    \n",
    "    cr = (port_val.ix[-1,:] / port_val.ix[0,:]) - 1  # Cumulative Return\n",
    "    adr = daily_returns.mean()  # Average Daily Return\n",
    "    sddr = daily_returns.std()  # STD of Daily Return\n",
    "    sr = np.sqrt(sf) * (adr - rfr) / sddr  # Sharpe Ratio\n",
    "    \n",
    "    \n",
    "    # Compare daily portfolio value with SPY using a normalized plot   ******\n",
    "    if gen_plot:\n",
    "        # add code to plot here\n",
    "        df_temp = pd.concat([port_val, prices_SPY], keys=['Portfolio', 'SPY'], axis=1)\n",
    "        df_temp_norm = df_temp / df_temp.ix[0,:]\n",
    "        ax = df_temp_norm.plot(title='Normalized Stock Prices')\n",
    "        ax.set_xlabel('Date')\n",
    "        ax.set_ylabel('Normalized Price')\n",
    "        plt.show()\n",
    "        pass\n",
    "\n",
    "    # Add code here to properly compute end value   ******\n",
    "    ev = port_val[-1]\n",
    "\n",
    "    return cr, adr, sddr, sr, ev, prices, port_val\n"
   ]
  },
  {
   "cell_type": "code",
   "execution_count": 17,
   "metadata": {
    "collapsed": false
   },
   "outputs": [],
   "source": [
    "def test_code():\n",
    "    # This code WILL NOT be tested by the auto grader\n",
    "    # It is only here to help you set up and test your code\n",
    "\n",
    "    # Define input parameters\n",
    "    # Note that ALL of these values will be set to different values by\n",
    "    # the autograder!\n",
    "    start_date = dt.datetime(2009,1,1)\n",
    "    end_date = dt.datetime(2010,1,1)\n",
    "    symbols = ['GOOG', 'AAPL', 'GLD', 'XOM']\n",
    "    allocations = [0.2, 0.3, 0.4, 0.1]\n",
    "    start_val = 1000000  \n",
    "    risk_free_rate = 0.0\n",
    "    sample_freq = 252\n",
    "\n",
    "    # Assess the portfolio\n",
    "    cr, adr, sddr, sr, ev, prices, port_val = assess_portfolio(sd = start_date, ed = end_date,\\\n",
    "        syms = symbols, \\\n",
    "        allocs = allocations,\\\n",
    "        sv = start_val, \\\n",
    "        gen_plot = True)\n",
    "\n",
    "    # Print statistics\n",
    "    print \"Start Date:\", start_date\n",
    "    print \"End Date:\", end_date\n",
    "    print \"Symbols:\", symbols\n",
    "    print \"Allocations:\", allocations\n",
    "    print \"Sharpe Ratio:\", sr\n",
    "    print \"Volatility (stdev of daily returns):\", sddr\n",
    "    print \"Average Daily Return:\", adr\n",
    "    print \"Cumulative Return:\", cr\n",
    "    \n",
    "    return cr, adr, sddr, sr, ev, prices, port_val"
   ]
  },
  {
   "cell_type": "code",
   "execution_count": 18,
   "metadata": {
    "collapsed": false,
    "scrolled": false
   },
   "outputs": [
    {
     "data": {
      "image/png": "[encoded data removed]",
      "text/plain": [
       "<matplotlib.figure.Figure at 0x10b8ec410>"
      ]
     },
     "metadata": {},
     "output_type": "display_data"
    },
    {
     "name": "stdout",
     "output_type": "stream",
     "text": [
      "Start Date: 2009-01-01 00:00:00\n",
      "End Date: 2010-01-01 00:00:00\n",
      "Symbols: ['GOOG', 'AAPL', 'GLD', 'XOM']\n",
      "Allocations: [0.2, 0.3, 0.4, 0.1]\n",
      "Sharpe Ratio: 2.79622138177\n",
      "Volatility (stdev of daily returns): 0.0119577327802\n",
      "Average Daily Return: 0.00210629950604\n",
      "Cumulative Return: 0.6657866\n"
     ]
    }
   ],
   "source": [
    "if __name__ == \"__main__\":\n",
    "    test_code()"
   ]
  },
  {
   "cell_type": "code",
   "execution_count": 19,
   "metadata": {
    "collapsed": false
   },
   "outputs": [
    {
     "data": {
      "image/png": "[encoded data removed]",
      "text/plain": [
       "<matplotlib.figure.Figure at 0x10b8c22d0>"
      ]
     },
     "metadata": {},
     "output_type": "display_data"
    },
    {
     "name": "stdout",
     "output_type": "stream",
     "text": [
      "Start Date: 2009-01-01 00:00:00\n",
      "End Date: 2010-01-01 00:00:00\n",
      "Symbols: ['GOOG', 'AAPL', 'GLD', 'XOM']\n",
      "Allocations: [0.2, 0.3, 0.4, 0.1]\n",
      "Sharpe Ratio: 2.79622138177\n",
      "Volatility (stdev of daily returns): 0.0119577327802\n",
      "Average Daily Return: 0.00210629950604\n",
      "Cumulative Return: 0.6657866\n"
     ]
    }
   ],
   "source": [
    "cr, adr, sddr, sr, ev, prices, port_val = test_code()"
   ]
  },
  {
   "cell_type": "code",
   "execution_count": 21,
   "metadata": {
    "collapsed": false,
    "scrolled": true
   },
   "outputs": [
    {
     "data": {
      "text/plain": [
       "2009-01-02    1000000.00\n",
       "2009-01-05    1008740.32\n",
       "2009-01-06    1008692.45\n",
       "2009-01-07     981001.05\n",
       "2009-01-08     997510.76\n",
       "dtype: float64"
      ]
     },
     "execution_count": 21,
     "metadata": {},
     "output_type": "execute_result"
    }
   ],
   "source": [
    "port_val.head()"
   ]
  },
  {
   "cell_type": "code",
   "execution_count": 23,
   "metadata": {
    "collapsed": false
   },
   "outputs": [
    {
     "data": {
      "text/plain": [
       "2009-01-02    1000000.00\n",
       "2009-01-05    1008740.32\n",
       "2009-01-06    1008692.45\n",
       "2009-01-07     981001.05\n",
       "2009-01-08     997510.76\n",
       "dtype: float64"
      ]
     },
     "execution_count": 23,
     "metadata": {},
     "output_type": "execute_result"
    }
   ],
   "source": [
    "sd = dt.datetime(2009,1,1)\n",
    "ed = dt.datetime(2010,1,1)\n",
    "syms = ['GOOG','AAPL','GLD','XOM']\n",
    "allocs=[0.2, 0.3, 0.4, 0.1]\n",
    "sv=1000000\n",
    "\n",
    "normed = prices / prices.ix[0,:]  # normalizes data in each column\n",
    "alloced = normed * allocs   # applies allocation of starting value invested to each symbol on each day\n",
    "pos_vals = alloced * sv    # applies starting value invested to each symbol\n",
    "port_val = pos_vals.sum(axis=1).round(2)  # calculates total portfolio value of each day\n",
    "#port_val = pd.DataFrame(data=port_val, columns=['Port_Val'])  # convert array to a dataframe\n",
    "port_val.head()"
   ]
  },
  {
   "cell_type": "code",
   "execution_count": 275,
   "metadata": {
    "collapsed": false
   },
   "outputs": [
    {
     "data": {
      "text/plain": [
       "0.66578660000000012"
      ]
     },
     "execution_count": 275,
     "metadata": {},
     "output_type": "execute_result"
    }
   ],
   "source": [
    "# Cumulative Return\n",
    "cr = (port_val.ix[-1,:] / port_val.ix[0,:]) - 1\n",
    "cr"
   ]
  },
  {
   "cell_type": "code",
   "execution_count": 277,
   "metadata": {
    "collapsed": false
   },
   "outputs": [
    {
     "data": {
      "text/plain": [
       "0.0021062995060402859"
      ]
     },
     "execution_count": 277,
     "metadata": {},
     "output_type": "execute_result"
    }
   ],
   "source": [
    "# Average Daily Return\n",
    "adr = daily_returns.mean()\n",
    "adr"
   ]
  },
  {
   "cell_type": "code",
   "execution_count": 278,
   "metadata": {
    "collapsed": false
   },
   "outputs": [
    {
     "data": {
      "text/plain": [
       "0.011957732780245867"
      ]
     },
     "execution_count": 278,
     "metadata": {},
     "output_type": "execute_result"
    }
   ],
   "source": [
    "# STD of Daily Return\n",
    "stddr = daily_returns.std()\n",
    "stddr"
   ]
  },
  {
   "cell_type": "code",
   "execution_count": 279,
   "metadata": {
    "collapsed": false
   },
   "outputs": [
    {
     "data": {
      "text/plain": [
       "2.7962213817690964"
      ]
     },
     "execution_count": 279,
     "metadata": {},
     "output_type": "execute_result"
    }
   ],
   "source": [
    "# Sharpe Ratio\n",
    "sr = np.sqrt(252) * (adr - 0) / stddr\n",
    "sr"
   ]
  },
  {
   "cell_type": "code",
   "execution_count": null,
   "metadata": {
    "collapsed": false
   },
   "outputs": [],
   "source": [
    "# Daily Returns\n",
    "daily_returns = (port_val / port_val.shift(1)) - 1\n",
    "daily_returns.ix[0] = 0\n",
    "daily_returns = daily_returns.ix[1:]\n",
    "daily_returns.head()"
   ]
  },
  {
   "cell_type": "code",
   "execution_count": null,
   "metadata": {
    "collapsed": true
   },
   "outputs": [],
   "source": []
  },
  {
   "cell_type": "code",
   "execution_count": null,
   "metadata": {
    "collapsed": true
   },
   "outputs": [],
   "source": []
  }
 ],
 "metadata": {
  "kernelspec": {
   "display_name": "Python 2",
   "language": "python",
   "name": "python2"
  },
  "language_info": {
   "codemirror_mode": {
    "name": "ipython",
    "version": 2
   },
   "file_extension": ".py",
   "mimetype": "text/x-python",
   "name": "python",
   "nbconvert_exporter": "python",
   "pygments_lexer": "ipython2",
   "version": "2.7.10"
  }
 },
 "nbformat": 4,
 "nbformat_minor": 0
}
