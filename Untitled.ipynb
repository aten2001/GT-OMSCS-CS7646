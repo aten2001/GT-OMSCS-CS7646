{
 "cells": [
  {
   "cell_type": "code",
   "execution_count": 1,
   "metadata": {
    "collapsed": true
   },
   "outputs": [],
   "source": [
    "import numpy as np\n",
    "import pandas as pd"
   ]
  },
  {
   "cell_type": "code",
   "execution_count": 38,
   "metadata": {
    "collapsed": false
   },
   "outputs": [],
   "source": [
    "empty = np.empty([2,1])"
   ]
  },
  {
   "cell_type": "code",
   "execution_count": 41,
   "metadata": {
    "collapsed": false
   },
   "outputs": [],
   "source": [
    "empty[1,0] = 100\n",
    "empty[0,0] = 1"
   ]
  },
  {
   "cell_type": "code",
   "execution_count": 49,
   "metadata": {
    "collapsed": false
   },
   "outputs": [
    {
     "data": {
      "text/plain": [
       "array([[   1.],\n",
       "       [ 100.]])"
      ]
     },
     "execution_count": 49,
     "metadata": {},
     "output_type": "execute_result"
    }
   ],
   "source": [
    "empty"
   ]
  },
  {
   "cell_type": "code",
   "execution_count": 50,
   "metadata": {
    "collapsed": false
   },
   "outputs": [
    {
     "data": {
      "text/plain": [
       "(2, 1)"
      ]
     },
     "execution_count": 50,
     "metadata": {},
     "output_type": "execute_result"
    }
   ],
   "source": [
    "empty.shape"
   ]
  },
  {
   "cell_type": "code",
   "execution_count": 51,
   "metadata": {
    "collapsed": false,
    "scrolled": true
   },
   "outputs": [
    {
     "data": {
      "text/plain": [
       "array([1, 1])"
      ]
     },
     "execution_count": 51,
     "metadata": {},
     "output_type": "execute_result"
    }
   ],
   "source": [
    "n = empty.shape[0]\n",
    "index = np.random.randint(low = 0, high = n, size = n) \n",
    "\n",
    "index"
   ]
  },
  {
   "cell_type": "code",
   "execution_count": 52,
   "metadata": {
    "collapsed": false
   },
   "outputs": [
    {
     "data": {
      "text/plain": [
       "array([[ 100.],\n",
       "       [ 100.]])"
      ]
     },
     "execution_count": 52,
     "metadata": {},
     "output_type": "execute_result"
    }
   ],
   "source": [
    "empty[index,:]"
   ]
  },
  {
   "cell_type": "code",
   "execution_count": 34,
   "metadata": {
    "collapsed": false
   },
   "outputs": [
    {
     "data": {
      "text/plain": [
       "array([ 8, 19, 22,  7, 18, 18, 10,  3, 17,  8,  3,  9,  0,  9,  9, 21, 20,\n",
       "        8, 10,  8, 18,  7, 11, 17,  9])"
      ]
     },
     "execution_count": 34,
     "metadata": {},
     "output_type": "execute_result"
    }
   ],
   "source": [
    "np.random.randint(low=0, high=25, size=25)"
   ]
  },
  {
   "cell_type": "code",
   "execution_count": 47,
   "metadata": {
    "collapsed": false
   },
   "outputs": [],
   "source": [
    "test = np.array([0,1])"
   ]
  },
  {
   "cell_type": "code",
   "execution_count": 48,
   "metadata": {
    "collapsed": false
   },
   "outputs": [
    {
     "data": {
      "text/plain": [
       "(2,)"
      ]
     },
     "execution_count": 48,
     "metadata": {},
     "output_type": "execute_result"
    }
   ],
   "source": [
    "test.shape"
   ]
  },
  {
   "cell_type": "code",
   "execution_count": 59,
   "metadata": {
    "collapsed": true
   },
   "outputs": [],
   "source": [
    "class addtest(object):\n",
    "    def __init__(self, variable1, variable2):\n",
    "        self.variable1 = variable1\n",
    "        self.variable2 = variable2\n",
    "        \n",
    "    def add2(self, a, b):\n",
    "        getc = cclass()\n",
    "        c = self.variable1.findc(self.variable2)\n",
    "        d = a + b + c\n",
    "        return d"
   ]
  },
  {
   "cell_type": "code",
   "execution_count": 68,
   "metadata": {
    "collapsed": true
   },
   "outputs": [],
   "source": [
    "class cclass(object):\n",
    "    def __init__(self, var):\n",
    "        #self.var = var\n",
    "        pass\n",
    "    \n",
    "    def findc(self, e, f):\n",
    "        c = e + f\n",
    "        return c"
   ]
  },
  {
   "cell_type": "code",
   "execution_count": null,
   "metadata": {
    "collapsed": true
   },
   "outputs": [],
   "source": []
  },
  {
   "cell_type": "code",
   "execution_count": 69,
   "metadata": {
    "collapsed": false
   },
   "outputs": [
    {
     "ename": "TypeError",
     "evalue": "__init__() got an unexpected keyword argument 'e'",
     "output_type": "error",
     "traceback": [
      "\u001b[0;31m---------------------------------------------------------------------------\u001b[0m",
      "\u001b[0;31mTypeError\u001b[0m                                 Traceback (most recent call last)",
      "\u001b[0;32m<ipython-input-69-119271328f1e>\u001b[0m in \u001b[0;36m<module>\u001b[0;34m()\u001b[0m\n\u001b[1;32m      1\u001b[0m \u001b[0mkwargs\u001b[0m \u001b[0;34m=\u001b[0m \u001b[0;34m{\u001b[0m\u001b[0;34m\"e\"\u001b[0m\u001b[0;34m:\u001b[0m\u001b[0;36m1\u001b[0m\u001b[0;34m,\u001b[0m \u001b[0;34m\"f\"\u001b[0m\u001b[0;34m:\u001b[0m\u001b[0;36m2\u001b[0m\u001b[0;34m}\u001b[0m\u001b[0;34m\u001b[0m\u001b[0m\n\u001b[1;32m      2\u001b[0m \u001b[0;34m\u001b[0m\u001b[0m\n\u001b[0;32m----> 3\u001b[0;31m \u001b[0mat\u001b[0m \u001b[0;34m=\u001b[0m \u001b[0maddtest\u001b[0m\u001b[0;34m(\u001b[0m\u001b[0mcclass\u001b[0m\u001b[0;34m,\u001b[0m \u001b[0;34m**\u001b[0m\u001b[0mkwargs\u001b[0m\u001b[0;34m)\u001b[0m\u001b[0;34m\u001b[0m\u001b[0m\n\u001b[0m\u001b[1;32m      4\u001b[0m \u001b[0mat\u001b[0m\u001b[0;34m.\u001b[0m\u001b[0madd2\u001b[0m\u001b[0;34m(\u001b[0m\u001b[0;36m1\u001b[0m\u001b[0;34m,\u001b[0m \u001b[0;36m2\u001b[0m\u001b[0;34m)\u001b[0m\u001b[0;34m\u001b[0m\u001b[0m\n",
      "\u001b[0;31mTypeError\u001b[0m: __init__() got an unexpected keyword argument 'e'"
     ]
    }
   ],
   "source": [
    "kwargs = {\"e\":1, \"f\":2}\n",
    "\n",
    "at = addtest(cclass, **kwargs)\n",
    "at.add2(1, 2)"
   ]
  },
  {
   "cell_type": "code",
   "execution_count": null,
   "metadata": {
    "collapsed": true
   },
   "outputs": [],
   "source": []
  },
  {
   "cell_type": "code",
   "execution_count": null,
   "metadata": {
    "collapsed": true
   },
   "outputs": [],
   "source": [
    "1"
   ]
  },
  {
   "cell_type": "code",
   "execution_count": null,
   "metadata": {
    "collapsed": true
   },
   "outputs": [],
   "source": []
  },
  {
   "cell_type": "code",
   "execution_count": null,
   "metadata": {
    "collapsed": true
   },
   "outputs": [],
   "source": []
  },
  {
   "cell_type": "code",
   "execution_count": 74,
   "metadata": {
    "collapsed": false
   },
   "outputs": [],
   "source": [
    "b = list()\n",
    "a = [1,2]\n",
    "b.append(a)"
   ]
  },
  {
   "cell_type": "code",
   "execution_count": 75,
   "metadata": {
    "collapsed": false
   },
   "outputs": [
    {
     "data": {
      "text/plain": [
       "[[1, 2]]"
      ]
     },
     "execution_count": 75,
     "metadata": {},
     "output_type": "execute_result"
    }
   ],
   "source": [
    "b"
   ]
  },
  {
   "cell_type": "code",
   "execution_count": 76,
   "metadata": {
    "collapsed": false
   },
   "outputs": [
    {
     "data": {
      "text/plain": [
       "[1, 2]"
      ]
     },
     "execution_count": 76,
     "metadata": {},
     "output_type": "execute_result"
    }
   ],
   "source": [
    "a"
   ]
  },
  {
   "cell_type": "code",
   "execution_count": 107,
   "metadata": {
    "collapsed": true
   },
   "outputs": [],
   "source": [
    "class Foo:\n",
    "  def setAllWithKwArgs(self, **kwargs):\n",
    "    for key, value in kwargs.items():\n",
    "      setattr(self, key, value)\n",
    "      print eval(\"self\" + \".\" + str(key))"
   ]
  },
  {
   "cell_type": "code",
   "execution_count": 112,
   "metadata": {
    "collapsed": false
   },
   "outputs": [
    {
     "name": "stdout",
     "output_type": "stream",
     "text": [
      "1\n",
      "2\n"
     ]
    }
   ],
   "source": [
    "f = Foo()\n",
    "f.setAllWithKwArgs(a = 1, b = 2)"
   ]
  },
  {
   "cell_type": "code",
   "execution_count": 109,
   "metadata": {
    "collapsed": false
   },
   "outputs": [
    {
     "data": {
      "text/plain": [
       "[0, 1]"
      ]
     },
     "execution_count": 109,
     "metadata": {},
     "output_type": "execute_result"
    }
   ],
   "source": [
    "range(0,2)"
   ]
  },
  {
   "cell_type": "code",
   "execution_count": 129,
   "metadata": {
    "collapsed": false
   },
   "outputs": [],
   "source": [
    "kwargs = {\"a\":1, \"b\":5}"
   ]
  },
  {
   "cell_type": "code",
   "execution_count": 132,
   "metadata": {
    "collapsed": false
   },
   "outputs": [],
   "source": [
    "def printkwargs(**kwargs):\n",
    "    return a + b"
   ]
  },
  {
   "cell_type": "code",
   "execution_count": 133,
   "metadata": {
    "collapsed": false
   },
   "outputs": [
    {
     "data": {
      "text/plain": [
       "[1, 2, [1, 2]]"
      ]
     },
     "execution_count": 133,
     "metadata": {},
     "output_type": "execute_result"
    }
   ],
   "source": [
    "printkwargs(**kwargs)"
   ]
  },
  {
   "cell_type": "code",
   "execution_count": 135,
   "metadata": {
    "collapsed": false
   },
   "outputs": [
    {
     "name": "stdout",
     "output_type": "stream",
     "text": [
      "1\n",
      "2\n",
      "3\n",
      "4\n",
      "5\n",
      "6\n",
      "7\n",
      "8\n",
      "9\n"
     ]
    }
   ],
   "source": [
    "for i in range(1,10):\n",
    "    print i"
   ]
  },
  {
   "cell_type": "code",
   "execution_count": 138,
   "metadata": {
    "collapsed": false
   },
   "outputs": [
    {
     "data": {
      "text/plain": [
       "[1, 2]"
      ]
     },
     "execution_count": 138,
     "metadata": {},
     "output_type": "execute_result"
    }
   ],
   "source": [
    "ll = [1,2,3,4]\n",
    "ll[0:2]"
   ]
  },
  {
   "cell_type": "code",
   "execution_count": 4,
   "metadata": {
    "collapsed": false
   },
   "outputs": [
    {
     "data": {
      "text/plain": [
       "(3,)"
      ]
     },
     "execution_count": 4,
     "metadata": {},
     "output_type": "execute_result"
    }
   ],
   "source": [
    "a = np.empty([3,2])\n",
    "b = np.array([1,2,3])\n",
    "c = np.array([4,5,6])\n",
    "\n",
    "b.shape"
   ]
  },
  {
   "cell_type": "code",
   "execution_count": 7,
   "metadata": {
    "collapsed": false
   },
   "outputs": [],
   "source": [
    "a[:,0] = b\n",
    "a[:,1] = c"
   ]
  },
  {
   "cell_type": "code",
   "execution_count": 6,
   "metadata": {
    "collapsed": false
   },
   "outputs": [
    {
     "data": {
      "text/plain": [
       "array([ -1.00000000e+000,   3.47594545e-310,   3.47583670e-310])"
      ]
     },
     "execution_count": 6,
     "metadata": {},
     "output_type": "execute_result"
    }
   ],
   "source": [
    "np.mean(a, 1)"
   ]
  },
  {
   "cell_type": "code",
   "execution_count": 180,
   "metadata": {
    "collapsed": false
   },
   "outputs": [
    {
     "data": {
      "text/plain": [
       "array([[ 1.,  4.],\n",
       "       [ 2.,  5.],\n",
       "       [ 3.,  6.]])"
      ]
     },
     "execution_count": 180,
     "metadata": {},
     "output_type": "execute_result"
    }
   ],
   "source": [
    "a[1]"
   ]
  },
  {
   "cell_type": "code",
   "execution_count": 178,
   "metadata": {
    "collapsed": false
   },
   "outputs": [
    {
     "ename": "NameError",
     "evalue": "name 'mean' is not defined",
     "output_type": "error",
     "traceback": [
      "\u001b[0;31m---------------------------------------------------------------------------\u001b[0m",
      "\u001b[0;31mNameError\u001b[0m                                 Traceback (most recent call last)",
      "\u001b[0;32m<ipython-input-178-d35380e6c0de>\u001b[0m in \u001b[0;36m<module>\u001b[0;34m()\u001b[0m\n\u001b[0;32m----> 1\u001b[0;31m \u001b[0mnp\u001b[0m\u001b[0;34m.\u001b[0m\u001b[0mapply_along_axis\u001b[0m\u001b[0;34m(\u001b[0m\u001b[0mmean\u001b[0m\u001b[0;34m,\u001b[0m \u001b[0ma\u001b[0m\u001b[0;34m,\u001b[0m \u001b[0;36m0\u001b[0m\u001b[0;34m)\u001b[0m\u001b[0;34m\u001b[0m\u001b[0m\n\u001b[0m",
      "\u001b[0;31mNameError\u001b[0m: name 'mean' is not defined"
     ]
    }
   ],
   "source": [
    "np.apply_along_axis(mean, a, 0)"
   ]
  },
  {
   "cell_type": "code",
   "execution_count": 2,
   "metadata": {
    "collapsed": false
   },
   "outputs": [
    {
     "name": "stdout",
     "output_type": "stream",
     "text": [
      "True\n"
     ]
    }
   ],
   "source": [
    "if True and True:\n",
    "    print \"True\""
   ]
  },
  {
   "cell_type": "code",
   "execution_count": 9,
   "metadata": {
    "collapsed": false
   },
   "outputs": [
    {
     "data": {
      "text/plain": [
       "6"
      ]
     },
     "execution_count": 9,
     "metadata": {},
     "output_type": "execute_result"
    }
   ],
   "source": [
    "a.size"
   ]
  },
  {
   "cell_type": "code",
   "execution_count": 9,
   "metadata": {
    "collapsed": false
   },
   "outputs": [
    {
     "ename": "ValueError",
     "evalue": "all the input arrays must have same number of dimensions",
     "output_type": "error",
     "traceback": [
      "\u001b[0;31m---------------------------------------------------------------------------\u001b[0m",
      "\u001b[0;31mValueError\u001b[0m                                Traceback (most recent call last)",
      "\u001b[0;32m<ipython-input-9-a8279bf78890>\u001b[0m in \u001b[0;36m<module>\u001b[0;34m()\u001b[0m\n\u001b[1;32m      2\u001b[0m \u001b[0me\u001b[0m \u001b[0;34m=\u001b[0m \u001b[0mnp\u001b[0m\u001b[0;34m.\u001b[0m\u001b[0marray\u001b[0m\u001b[0;34m(\u001b[0m\u001b[0;34m[\u001b[0m\u001b[0;34m[\u001b[0m\u001b[0;36m1\u001b[0m\u001b[0;34m,\u001b[0m\u001b[0;36m2\u001b[0m\u001b[0;34m,\u001b[0m\u001b[0;36m3\u001b[0m\u001b[0;34m]\u001b[0m\u001b[0;34m]\u001b[0m\u001b[0;34m)\u001b[0m\u001b[0;34m\u001b[0m\u001b[0m\n\u001b[1;32m      3\u001b[0m \u001b[0;34m\u001b[0m\u001b[0m\n\u001b[0;32m----> 4\u001b[0;31m \u001b[0mnp\u001b[0m\u001b[0;34m.\u001b[0m\u001b[0mappend\u001b[0m\u001b[0;34m(\u001b[0m\u001b[0me\u001b[0m\u001b[0;34m,\u001b[0m \u001b[0md\u001b[0m\u001b[0;34m,\u001b[0m \u001b[0maxis\u001b[0m\u001b[0;34m=\u001b[0m\u001b[0;36m1\u001b[0m\u001b[0;34m)\u001b[0m\u001b[0;34m\u001b[0m\u001b[0m\n\u001b[0m",
      "\u001b[0;32m/usr/local/lib/python2.7/site-packages/numpy/lib/function_base.pyc\u001b[0m in \u001b[0;36mappend\u001b[0;34m(arr, values, axis)\u001b[0m\n\u001b[1;32m   4148\u001b[0m         \u001b[0mvalues\u001b[0m \u001b[0;34m=\u001b[0m \u001b[0mravel\u001b[0m\u001b[0;34m(\u001b[0m\u001b[0mvalues\u001b[0m\u001b[0;34m)\u001b[0m\u001b[0;34m\u001b[0m\u001b[0m\n\u001b[1;32m   4149\u001b[0m         \u001b[0maxis\u001b[0m \u001b[0;34m=\u001b[0m \u001b[0marr\u001b[0m\u001b[0;34m.\u001b[0m\u001b[0mndim\u001b[0m\u001b[0;34m-\u001b[0m\u001b[0;36m1\u001b[0m\u001b[0;34m\u001b[0m\u001b[0m\n\u001b[0;32m-> 4150\u001b[0;31m     \u001b[0;32mreturn\u001b[0m \u001b[0mconcatenate\u001b[0m\u001b[0;34m(\u001b[0m\u001b[0;34m(\u001b[0m\u001b[0marr\u001b[0m\u001b[0;34m,\u001b[0m \u001b[0mvalues\u001b[0m\u001b[0;34m)\u001b[0m\u001b[0;34m,\u001b[0m \u001b[0maxis\u001b[0m\u001b[0;34m=\u001b[0m\u001b[0maxis\u001b[0m\u001b[0;34m)\u001b[0m\u001b[0;34m\u001b[0m\u001b[0m\n\u001b[0m",
      "\u001b[0;31mValueError\u001b[0m: all the input arrays must have same number of dimensions"
     ]
    }
   ],
   "source": [
    "d = None\n",
    "e = np.array([[1,2,3]])\n",
    "\n",
    "np.append(e, d, axis=1)"
   ]
  },
  {
   "cell_type": "code",
   "execution_count": 12,
   "metadata": {
    "collapsed": false
   },
   "outputs": [
    {
     "name": "stdout",
     "output_type": "stream",
     "text": [
      "None\n"
     ]
    }
   ],
   "source": [
    "f = None\n",
    "if f == None:\n",
    "    print \"None\""
   ]
  },
  {
   "cell_type": "code",
   "execution_count": 25,
   "metadata": {
    "collapsed": false
   },
   "outputs": [
    {
     "name": "stdout",
     "output_type": "stream",
     "text": [
      "False\n"
     ]
    }
   ],
   "source": [
    "a = 1\n",
    "b = 2\n",
    "c = 3\n",
    "\n",
    "if (a == 1) and (b == 2) and (c == 2):\n",
    "    print True\n",
    "else:\n",
    "    print False"
   ]
  },
  {
   "cell_type": "code",
   "execution_count": null,
   "metadata": {
    "collapsed": true
   },
   "outputs": [],
   "source": [
    "            elif leftleaf.size == 0:\n",
    "                lefttree = self.buildTree(leftX, leftY)\n",
    "                righttree = self.buildTree(rightX, rightY)\n",
    "                root = np.array([[i, splitVal, 1, lefttree.shape[0] + 1]])\n",
    "                fin_array = np.append(root, lefttree, axis=0)\n",
    "                fin_array = np.append(fin_array, righttree, axis=0)\n",
    "                return fin_array\n",
    "            else:\n",
    "                lefttree = np.append(lefttree, leftleaf, axis=0)\n",
    "                righttree = self.buildTree(rightX, rightY)\n",
    "                root = np.array([[i, splitVal, 1, lefttree.shape[0] + 1]])\n",
    "                fin_array = np.append(root, lefttree, axis=0)\n",
    "                fin_array = np.append(fin_array, righttree, axis=0)\n",
    "                return fin_array"
   ]
  },
  {
   "cell_type": "code",
   "execution_count": null,
   "metadata": {
    "collapsed": true
   },
   "outputs": [],
   "source": [
    "            if leftX.size == 0:\n",
    "                if counter == 10:\n",
    "                    leftleaf = None\n",
    "                else:\n",
    "                    pass\n",
    "            elif leftX.size <= self.leaf_size:\n",
    "                leftleaf = np.array([[-1, leftY.mean(), np.nan, np.nan]]) \n",
    "            else:\n",
    "                leftleaf = np.array([])\n",
    "            \n",
    "            if rightX.size == 0:\n",
    "                if counter == 10:\n",
    "                    rightleaf = None\n",
    "                else:\n",
    "                    pass\n",
    "            elif rightX.size <= self.leaf_size:\n",
    "                rightleaf = np.array([[-1, rightY.mean(), np.nan, np.nan]]) \n",
    "            else:\n",
    "                rightleaf = np.array([]) "
   ]
  },
  {
   "cell_type": "code",
   "execution_count": null,
   "metadata": {
    "collapsed": true
   },
   "outputs": [],
   "source": []
  },
  {
   "cell_type": "code",
   "execution_count": 21,
   "metadata": {
    "collapsed": false
   },
   "outputs": [
    {
     "ename": "IndexError",
     "evalue": "index 3 is out of bounds for axis 0 with size 3",
     "output_type": "error",
     "traceback": [
      "\u001b[0;31m---------------------------------------------------------------------------\u001b[0m",
      "\u001b[0;31mIndexError\u001b[0m                                Traceback (most recent call last)",
      "\u001b[0;32m<ipython-input-21-15e732b20873>\u001b[0m in \u001b[0;36m<module>\u001b[0;34m()\u001b[0m\n\u001b[1;32m      1\u001b[0m \u001b[0mindex\u001b[0m \u001b[0;34m=\u001b[0m \u001b[0;36m3\u001b[0m\u001b[0;34m\u001b[0m\u001b[0m\n\u001b[1;32m      2\u001b[0m \u001b[0ma\u001b[0m \u001b[0;34m=\u001b[0m \u001b[0mnp\u001b[0m\u001b[0;34m.\u001b[0m\u001b[0marray\u001b[0m\u001b[0;34m(\u001b[0m\u001b[0;34m[\u001b[0m\u001b[0;36m1\u001b[0m\u001b[0;34m,\u001b[0m\u001b[0;36m2\u001b[0m\u001b[0;34m,\u001b[0m\u001b[0;36m3\u001b[0m\u001b[0;34m]\u001b[0m\u001b[0;34m)\u001b[0m\u001b[0;34m\u001b[0m\u001b[0m\n\u001b[0;32m----> 3\u001b[0;31m \u001b[0ma\u001b[0m\u001b[0;34m[\u001b[0m\u001b[0mindex\u001b[0m\u001b[0;34m]\u001b[0m\u001b[0;34m\u001b[0m\u001b[0m\n\u001b[0m",
      "\u001b[0;31mIndexError\u001b[0m: index 3 is out of bounds for axis 0 with size 3"
     ]
    }
   ],
   "source": [
    "index = 3\n",
    "a = np.array([1,2,3])\n",
    "a[index]"
   ]
  },
  {
   "cell_type": "code",
   "execution_count": 12,
   "metadata": {
    "collapsed": false
   },
   "outputs": [],
   "source": [
    "a = np.array([[1,2,3,4]])\n",
    "b = 5\n",
    "index = np.where(a[:,1] >= b)"
   ]
  },
  {
   "cell_type": "code",
   "execution_count": 14,
   "metadata": {
    "collapsed": false
   },
   "outputs": [],
   "source": [
    "aprime = a[index]"
   ]
  },
  {
   "cell_type": "code",
   "execution_count": 15,
   "metadata": {
    "collapsed": false
   },
   "outputs": [
    {
     "data": {
      "text/plain": [
       "0"
      ]
     },
     "execution_count": 15,
     "metadata": {},
     "output_type": "execute_result"
    }
   ],
   "source": [
    "aprime.size"
   ]
  },
  {
   "cell_type": "code",
   "execution_count": 16,
   "metadata": {
    "collapsed": false
   },
   "outputs": [
    {
     "data": {
      "text/plain": [
       "False"
      ]
     },
     "execution_count": 16,
     "metadata": {},
     "output_type": "execute_result"
    }
   ],
   "source": [
    "a = -2\n",
    "b = -3\n",
    "\n",
    "a < b"
   ]
  },
  {
   "cell_type": "code",
   "execution_count": 19,
   "metadata": {
    "collapsed": false
   },
   "outputs": [
    {
     "name": "stdout",
     "output_type": "stream",
     "text": [
      "0\n",
      "1\n",
      "2\n",
      "3\n",
      "counter = 4\n"
     ]
    }
   ],
   "source": [
    "counter = 0\n",
    "\n",
    "while counter < 4:\n",
    "    print counter\n",
    "    counter = counter + 1\n",
    "    if counter == 4:\n",
    "        print \"counter = 4\"\n",
    "    else:\n",
    "        pass"
   ]
  },
  {
   "cell_type": "code",
   "execution_count": null,
   "metadata": {
    "collapsed": true
   },
   "outputs": [],
   "source": []
  },
  {
   "cell_type": "code",
   "execution_count": null,
   "metadata": {
    "collapsed": true
   },
   "outputs": [],
   "source": []
  },
  {
   "cell_type": "code",
   "execution_count": null,
   "metadata": {
    "collapsed": true
   },
   "outputs": [],
   "source": []
  },
  {
   "cell_type": "code",
   "execution_count": null,
   "metadata": {
    "collapsed": true
   },
   "outputs": [],
   "source": []
  },
  {
   "cell_type": "code",
   "execution_count": null,
   "metadata": {
    "collapsed": true
   },
   "outputs": [],
   "source": []
  },
  {
   "cell_type": "code",
   "execution_count": 22,
   "metadata": {
    "collapsed": false
   },
   "outputs": [
    {
     "name": "stdout",
     "output_type": "stream",
     "text": [
      "the secret clue is 'zzyzx'\n"
     ]
    }
   ],
   "source": [
    "\"\"\"\n",
    "A simple wrapper for random tree learner.\n",
    "\"\"\"\n",
    "\n",
    "import numpy as np\n",
    "import pandas as pd\n",
    "\n",
    "class RTLearner(object):\n",
    "\n",
    "    \n",
    "    def __init__(self, leaf_size, verbose = False):\n",
    "        self.leaf_size = leaf_size\n",
    "        print \"self.leaf_size from RTLearner =\", self.leaf_size\n",
    "\n",
    "    \n",
    "    def author(self):\n",
    "        return 'clightsey3' # replace tb34 with your Georgia Tech username\n",
    "\n",
    "    \n",
    "    def addEvidence(self, dataX, dataY):\n",
    "        \"\"\"\n",
    "        @summary: Add training data to learner\n",
    "        @param dataX: X values of data to add\n",
    "        @param dataY: the Y training values\n",
    "        \"\"\"\n",
    "        self.model = self.buildTree(dataX, dataY)\n",
    "        \n",
    "    \n",
    "    def buildTree(self, dataX, dataY):\n",
    "        \"\"\"\n",
    "        @summary: build random tree\n",
    "        @param dataX: X values of data to add\n",
    "        @param dataY: the Y training values\n",
    "        \"\"\"\n",
    "        \n",
    "        if dataX.shape[0] <= self.leaf_size:\n",
    "            return np.array([[-1, dataY.mean(), np.nan, np.nan]])\n",
    "        elif (dataY.std() == 0) and (dataX.shape[0] > self.leaf_size):\n",
    "            return np.array([[-1, dataY.mean(), np.nan, np.nan]])\n",
    "        else:\n",
    "            i, splitVal, leftX, rightX, leftY, rightY = self.findNonEmptyRandomSplit(dataX, dataY)\n",
    "            \n",
    "            counter = 0   # start counter\n",
    "            \n",
    "            if (counter <= 9):\n",
    "                counter = counter + 1   # increment counter\n",
    "                print\n",
    "                print \"counter =\", counter               \n",
    "                print \"leftX.size > 0 =\", leftX.size > 0\n",
    "                print \"rightX.size > 0 =\", rightX.size > 0\n",
    "                if (leftX.size > 0) or (rightX.size > 0):\n",
    "                    print \"True True\"\n",
    "                    print \"before self.findNonEmptyRandomSplit(dataX, dataY)\"\n",
    "                    i, splitVal, leftX, rightX, leftY, rightY = self.findNonEmptyRandomSplit(dataX, dataY)\n",
    "                    print \"after self.findNonEmptyRandomSplit(dataX, dataY)\"\n",
    "                else:\n",
    "                    print \"splitVal =\", splitVal\n",
    "                    print \"Error\"\n",
    "                    pass\n",
    "            else:\n",
    "                print \"Hit Counter Limit\"\n",
    "                pass\n",
    "        \n",
    "        print \"leftX.size == 0 =\", leftX.size == 0\n",
    "        print \"rightX.size == 0 =\", rightX.size == 0\n",
    "        \n",
    "        if leftX.size == 0:\n",
    "            print \"righttree only\"\n",
    "            righttree = self.buildTree(rightX, rightY)\n",
    "            root = np.array([[i, splitVal, 1, 1]])   # Update the root\n",
    "            fin_array = np.append(root, righttree, axis=0)\n",
    "        elif rightX.size == 0:\n",
    "            print \"lefttree only\"\n",
    "            lefttree = self.buildTree(leftX, leftY)\n",
    "            root = np.array([[i, splitVal, 1, lefttree.shape[0] + 1]])   # Update the root\n",
    "            fin_array = np.append(root, lefttree, axis=0)\n",
    "        else:\n",
    "            print \"both trees\"\n",
    "            lefttree = self.buildTree(leftX, leftY)\n",
    "            righttree = self.buildTree(rightX, rightY) \n",
    "            root = np.array([[i, splitVal, 1, lefttree.shape[0] + 1]])   # Update the root\n",
    "            fin_array = np.append(root, lefttree, axis=0)\n",
    "            fin_array = np.append(fin_array, righttree, axis=0)\n",
    "        \n",
    "        print \"end buildTree from RTLearner\"\n",
    "        return fin_array\n",
    "        \n",
    "    \n",
    "    \n",
    "    def findNonEmptyRandomSplit(self, dataX, dataY):\n",
    "        \"\"\"\n",
    "        @summary: find a non-empty random split \n",
    "        @param dataX: X values of data to add\n",
    "        @param dataY: the Y training values\n",
    "        \"\"\"\n",
    "        \n",
    "        j = np.random.randint(0, dataX.shape[1])    # randomly select a feature\n",
    "        k = np.random.randint(0, dataX.shape[0])    # randomly select element 1 in i\n",
    "        l = np.random.randint(0, dataX.shape[0])    # randomly select element 2 in i\n",
    "        \n",
    "        splitVal = (dataX[k, j] + dataX[l, j]) / 2  # find the value to split on\n",
    "        \n",
    "        # build left and right X and Y based off of splitVal\n",
    "        leftIndex = np.where(dataX[:,j] <= splitVal)\n",
    "        rightIndex = np.where(dataX[:,j] > splitVal)\n",
    "        leftX = dataX[leftIndex]\n",
    "        leftY = dataY[leftIndex]\n",
    "        rightX = dataX[rightIndex]\n",
    "        rightY = dataY[rightIndex]        \n",
    "            \n",
    "        return j, splitVal, leftX, rightX, leftY, rightY\n",
    "    \n",
    "    \n",
    "    \n",
    "    def query(self, pts):\n",
    "        \"\"\"\n",
    "        @summary: Estimate a set of test points given the model we built.\n",
    "        @pts: should be a numpy array with each row corresponding to a specific query.\n",
    "        @model: model generated from buildTree()\n",
    "        @returns the estimated values according to the saved model.\n",
    "        \"\"\"\n",
    "        # query all rows in the array\n",
    "        print \"query\"\n",
    "        return np.apply_along_axis(self.queryPT, 1, pts, self.model)\n",
    "\n",
    "    \n",
    "    def queryPT(self, pt, model):\n",
    "        \"\"\"\n",
    "        @summary: find a leaf for a single point\n",
    "        @pt: should be a numpy array with one row\n",
    "        @model: model generated from buildTree()\n",
    "        @returns the estimated values according to the saved model.\n",
    "        \"\"\"\n",
    "        index = 0\n",
    "        node = model[index]\n",
    "        feature, splitVal, indexL, indexR = node\n",
    "        feature = int(feature)\n",
    "        try:\n",
    "            indexL = int(indexL)\n",
    "            indexR = int(indexR)\n",
    "        except ValueError:\n",
    "            return splitVal\n",
    "        \n",
    "        while feature != -1:\n",
    "            if pt[feature] <= splitVal:\n",
    "                index = index + indexL\n",
    "                node = model[index]\n",
    "                feature, splitVal, indexL, indexR = node\n",
    "                feature = int(feature)\n",
    "                try:\n",
    "                    indexL = int(indexL)\n",
    "                    indexR = int(indexR)\n",
    "                except ValueError:\n",
    "                    pass\n",
    "                if feature == -1:\n",
    "                    return splitVal\n",
    "                else:\n",
    "                    pass\n",
    "            else:\n",
    "                index = index + indexR\n",
    "                print \"model\"\n",
    "                print model.shape\n",
    "                print \"index\"\n",
    "                print index\n",
    "                node = model[index]\n",
    "                feature, splitVal, indexL, indexR = node\n",
    "                feature = int(feature)\n",
    "                try:\n",
    "                    indexL = int(indexL)\n",
    "                    indexR = int(indexR)\n",
    "                except ValueError:\n",
    "                    pass\n",
    "                if feature == -1:\n",
    "                    return splitVal\n",
    "                else:\n",
    "                    pass\n",
    "            \n",
    "\n",
    "            \n",
    "if __name__==\"__main__\":\n",
    "    print \"the secret clue is 'zzyzx'\"\n"
   ]
  },
  {
   "cell_type": "code",
   "execution_count": 25,
   "metadata": {
    "collapsed": false
   },
   "outputs": [
    {
     "name": "stdout",
     "output_type": "stream",
     "text": [
      "1\n"
     ]
    }
   ],
   "source": [
    "if False or True:\n",
    "    print 1\n",
    "else:\n",
    "    print 2"
   ]
  },
  {
   "cell_type": "code",
   "execution_count": 34,
   "metadata": {
    "collapsed": true
   },
   "outputs": [],
   "source": [
    "def testfunc(a,b):\n",
    "    counter = 0\n",
    "    while counter < 5:\n",
    "        counter = counter + 1\n",
    "        if a > b:\n",
    "            print \"a > b\"\n",
    "        else:\n",
    "            print \"a < b\"\n",
    "            break\n",
    "            \n",
    "    print \"The End\""
   ]
  },
  {
   "cell_type": "code",
   "execution_count": 35,
   "metadata": {
    "collapsed": false
   },
   "outputs": [
    {
     "name": "stdout",
     "output_type": "stream",
     "text": [
      "a < b\n",
      "The End\n"
     ]
    }
   ],
   "source": [
    "testfunc(1,2)"
   ]
  },
  {
   "cell_type": "code",
   "execution_count": null,
   "metadata": {
    "collapsed": true
   },
   "outputs": [],
   "source": []
  },
  {
   "cell_type": "code",
   "execution_count": null,
   "metadata": {
    "collapsed": true
   },
   "outputs": [],
   "source": []
  },
  {
   "cell_type": "code",
   "execution_count": null,
   "metadata": {
    "collapsed": true
   },
   "outputs": [],
   "source": []
  },
  {
   "cell_type": "code",
   "execution_count": null,
   "metadata": {
    "collapsed": true
   },
   "outputs": [],
   "source": [
    "# RTLearner working w/ full comments"
   ]
  },
  {
   "cell_type": "code",
   "execution_count": 37,
   "metadata": {
    "collapsed": false
   },
   "outputs": [
    {
     "name": "stdout",
     "output_type": "stream",
     "text": [
      "the secret clue is 'zzyzx'\n"
     ]
    }
   ],
   "source": [
    "\"\"\"\n",
    "A simple wrapper for random tree learner.\n",
    "\"\"\"\n",
    "\n",
    "import numpy as np\n",
    "import pandas as pd\n",
    "\n",
    "class RTLearner(object):\n",
    "\n",
    "    \n",
    "    def __init__(self, leaf_size, verbose = False):\n",
    "        self.leaf_size = leaf_size\n",
    "\n",
    "    \n",
    "    def author(self):\n",
    "        return 'clightsey3' # replace tb34 with your Georgia Tech username\n",
    "\n",
    "    \n",
    "    def addEvidence(self, dataX, dataY):\n",
    "        \"\"\"\n",
    "        @summary: Add training data to learner\n",
    "        @param dataX: X values of data to add\n",
    "        @param dataY: the Y training values\n",
    "        \"\"\"\n",
    "        self.model = self.buildTree(dataX, dataY)\n",
    "        \n",
    "    \n",
    "    def buildTree(self, dataX, dataY):\n",
    "        \"\"\"\n",
    "        @summary: build random tree\n",
    "        @param dataX: X values of data to add\n",
    "        @param dataY: the Y training values\n",
    "        \"\"\"\n",
    "        print \"dataX\"\n",
    "        print dataX\n",
    "        print \"dataY\"\n",
    "        print dataY\n",
    "        print \"dataX.std =\", dataX.std(axis=0)\n",
    "        print \"dataY.std =\", dataY.std(axis=0)\n",
    "        \n",
    "        if dataX.shape[0] <= self.leaf_size:\n",
    "            print \"dataX.shape[0] <= self.leaf_size\"\n",
    "            return np.array([[-1, dataY.mean(), np.nan, np.nan]])\n",
    "        elif (dataY.std(axis=0) < 0.00000000001):\n",
    "            print \"(dataY.std() == 0)\"\n",
    "            return np.array([[-1, dataY.mean(), np.nan, np.nan]])\n",
    "        else:\n",
    "            i, splitVal, leftX, rightX, leftY, rightY = self.findNonEmptyRandomSplit(dataX, dataY)\n",
    "            \n",
    "            counter = 0   # start counter\n",
    "            \n",
    "            while (counter <= 9):\n",
    "                counter = counter + 1   # increment counter\n",
    "                print \"counter =\", counter\n",
    "                if (leftX.size == 0):\n",
    "                    i, splitVal, leftX, rightX, leftY, rightY = self.findNonEmptyRandomSplit(dataX, dataY)\n",
    "                    if counter == 10:\n",
    "                        leftleaf = np.array([[-1, dataY.mean(), np.nan, np.nan]])\n",
    "                        print\n",
    "                        print \"leftX.size == 0 @ Max Counter\"\n",
    "                elif rightX.size == 0:\n",
    "                    i, splitVal, leftX, rightX, leftY, rightY = self.findNonEmptyRandomSplit(dataX, dataY)\n",
    "                    if counter == 10:\n",
    "                        rightleaf = np.array([[-1, dataY.mean(), np.nan, np.nan]])\n",
    "                        print\n",
    "                        print \"rightX.size == 0 @ Max Counter\"\n",
    "                else:\n",
    "                    print \"break\"\n",
    "                    break\n",
    "        \n",
    "            if leftX.size == 0:\n",
    "                print \"righttree only\"\n",
    "                righttree = self.buildTree(rightX, rightY)\n",
    "                root = np.array([[i, splitVal, 1, 2]])   # Update the root\n",
    "                fin_array = np.append(root, leftleaf, axis=0)\n",
    "                fin_array = np.append(root, righttree, axis=0)\n",
    "            elif rightX.size == 0:\n",
    "                print \"lefttree only\"\n",
    "                print \"leftX\"\n",
    "                print leftX\n",
    "                print leftX.shape\n",
    "                print leftY.shape\n",
    "                lefttree = self.buildTree(leftX, leftY)\n",
    "                root = np.array([[i, splitVal, 1, lefttree.shape[0] + 1]])   # Update the root\n",
    "                print \"root =\", root\n",
    "                fin_array = np.append(root, lefttree, axis=0)\n",
    "                print \"lefttree.shape =\", lefttree.shape\n",
    "                fin_array = np.append(root, rightleaf, axis=0)\n",
    "                print \"rightleaf =\", rightleaf\n",
    "            else:\n",
    "                print \"both trees\"\n",
    "                lefttree = self.buildTree(leftX, leftY)\n",
    "                righttree = self.buildTree(rightX, rightY) \n",
    "                root = np.array([[i, splitVal, 1, lefttree.shape[0] + 1]])   # Update the root\n",
    "                fin_array = np.append(root, lefttree, axis=0)\n",
    "                fin_array = np.append(fin_array, righttree, axis=0)\n",
    "        \n",
    "            return fin_array\n",
    "        \n",
    "    \n",
    "    \n",
    "    def findNonEmptyRandomSplit(self, dataX, dataY):\n",
    "        \"\"\"\n",
    "        @summary: find a non-empty random split \n",
    "        @param dataX: X values of data to add\n",
    "        @param dataY: the Y training values\n",
    "        \"\"\"\n",
    "        \n",
    "        j = np.random.randint(0, dataX.shape[1])    # randomly select a feature\n",
    "        k = np.random.randint(0, dataX.shape[0])    # randomly select element 1 in i\n",
    "        l = np.random.randint(0, dataX.shape[0])    # randomly select element 2 in i\n",
    "        print \"j,k,l =\", j, k, l\n",
    "        \n",
    "        splitVal = (dataX[k, j] + dataX[l, j]) / 2  # find the value to split on\n",
    "        print \"splitVal =\", splitVal\n",
    "        \n",
    "        # build left and right X and Y based off of splitVal\n",
    "        leftIndex = np.where(dataX[:,j] <= splitVal)\n",
    "        rightIndex = np.where(dataX[:,j] > splitVal)\n",
    "        leftX = dataX[leftIndex]\n",
    "        leftY = dataY[leftIndex]\n",
    "        rightX = dataX[rightIndex]\n",
    "        rightY = dataY[rightIndex]        \n",
    "            \n",
    "        return j, splitVal, leftX, rightX, leftY, rightY\n",
    "    \n",
    "    \n",
    "    \n",
    "    def query(self, pts):\n",
    "        \"\"\"\n",
    "        @summary: Estimate a set of test points given the model we built.\n",
    "        @pts: should be a numpy array with each row corresponding to a specific query.\n",
    "        @model: model generated from buildTree()\n",
    "        @returns the estimated values according to the saved model.\n",
    "        \"\"\"\n",
    "        # query all rows in the array\n",
    "        return np.apply_along_axis(self.queryPT, 1, pts, self.model)\n",
    "\n",
    "    \n",
    "    def queryPT(self, pt, model):\n",
    "        \"\"\"\n",
    "        @summary: find a leaf for a single point\n",
    "        @pt: should be a numpy array with one row\n",
    "        @model: model generated from buildTree()\n",
    "        @returns the estimated values according to the saved model.\n",
    "        \"\"\"\n",
    "        index = 0\n",
    "        node = model[index]\n",
    "        feature, splitVal, indexL, indexR = node\n",
    "        feature = int(feature)\n",
    "        try:\n",
    "            indexL = int(indexL)\n",
    "            indexR = int(indexR)\n",
    "        except ValueError:\n",
    "            return splitVal\n",
    "        \n",
    "        while feature != -1:\n",
    "            if pt[feature] <= splitVal:\n",
    "                index = index + indexL\n",
    "                node = model[index]\n",
    "                feature, splitVal, indexL, indexR = node\n",
    "                feature = int(feature)\n",
    "                try:\n",
    "                    indexL = int(indexL)\n",
    "                    indexR = int(indexR)\n",
    "                except ValueError:\n",
    "                    pass\n",
    "                if feature == -1:\n",
    "                    return splitVal\n",
    "                else:\n",
    "                    pass\n",
    "            else:\n",
    "                index = index + indexR\n",
    "                node = model[index]\n",
    "                feature, splitVal, indexL, indexR = node\n",
    "                feature = int(feature)\n",
    "                try:\n",
    "                    indexL = int(indexL)\n",
    "                    indexR = int(indexR)\n",
    "                except ValueError:\n",
    "                    pass\n",
    "                if feature == -1:\n",
    "                    return splitVal\n",
    "                else:\n",
    "                    pass\n",
    "            \n",
    "\n",
    "            \n",
    "if __name__==\"__main__\":\n",
    "    print \"the secret clue is 'zzyzx'\"\n"
   ]
  },
  {
   "cell_type": "code",
   "execution_count": null,
   "metadata": {
    "collapsed": true
   },
   "outputs": [],
   "source": [
    "# Working BagLearner w/ print comments"
   ]
  },
  {
   "cell_type": "code",
   "execution_count": null,
   "metadata": {
    "collapsed": true
   },
   "outputs": [],
   "source": [
    "\"\"\"\n",
    "A simple wrapper for random tree learner.\n",
    "\"\"\"\n",
    "\n",
    "import numpy as np\n",
    "import pandas as pd\n",
    "\n",
    "class BagLearner(object):\n",
    "\n",
    "    \n",
    "    def __init__(self, learner, kwargs, bags, boost, verbose = True):\n",
    "        self.learner = learner\n",
    "        print \"self.learner =\", self.learner\n",
    "        self.kwargs = kwargs\n",
    "        print \"self.kwargs =\", self.kwargs\n",
    "        self.bags = bags\n",
    "        print \"self.bags =\", self.bags\n",
    "        self.boost = boost\n",
    "        \n",
    "    \n",
    "    def author(self):\n",
    "        return 'clightsey3' # replace tb34 with your Georgia Tech username\n",
    "\n",
    "    \n",
    "    def addEvidence(self, dataX, dataY):\n",
    "        \"\"\"\n",
    "        @summary: Add and bag training data\n",
    "        @param dataX: X values of data to add\n",
    "        @param dataY: the Y training values\n",
    "        \"\"\"\n",
    "        \n",
    "        n = dataX.shape[0]  # count number of rows in dataX\n",
    "        \n",
    "        self.learneris = []    # create a blank list to hold the learner instances\n",
    "        \n",
    "        # build a list of models\n",
    "        for s in range(0, self.bags):\n",
    "            index = np.random.randint(low = 0, high = n, size = n) \n",
    "        \n",
    "            bagX = dataX[index,:]\n",
    "            print \"dataX.shape\"\n",
    "            print dataX.shape\n",
    "            print \"bagX.shape\"\n",
    "            print bagX.shape\n",
    "            bagY = dataY[index]\n",
    "            \n",
    "            print \"dataX\"\n",
    "            print dataX\n",
    "            print \"bagX\"\n",
    "            print bagX\n",
    "            print \"start RTLearner\"\n",
    "            learneri = self.learner(**self.kwargs)\n",
    "            learneri.addEvidence(bagX, bagY)\n",
    "            print \"end RTLearner\"\n",
    "\n",
    "            self.learneris.append(learneri)\n",
    "        \n",
    "        print \"end addEvidence\"\n",
    "   \n",
    "    def query(self, dataX):\n",
    "        \"\"\"\n",
    "        @summary: query the model\n",
    "        @param dataX: X values of data to add\n",
    "        @param dataY: the Y training values\n",
    "        \"\"\"\n",
    "        predY = np.empty((dataX.shape[0], self.bags))\n",
    "        \n",
    "        for j in range(0, self.bags):\n",
    "            learneri = self.learneris[j]\n",
    "            \n",
    "            predY_temp = learneri.query(dataX)\n",
    "            \n",
    "            predY[:,j] = predY_temp\n",
    "            \n",
    "        return np.mean(predY,1)\n",
    "                \n",
    "        \n",
    "            \n",
    "if __name__==\"__main__\":\n",
    "    print \"the secret clue is 'zzyzx'\"\n"
   ]
  },
  {
   "cell_type": "code",
   "execution_count": null,
   "metadata": {
    "collapsed": true
   },
   "outputs": [],
   "source": []
  },
  {
   "cell_type": "code",
   "execution_count": null,
   "metadata": {
    "collapsed": true
   },
   "outputs": [],
   "source": [
    "        learner = bl.BagLearner(learner = bl.BagLearner, kwargs = {\"learner\":lrl.LinRegLearner, \"bags\":20, \"boost\":False, \"verbose\":False}, bags = 20, boost = False, verbose = False)\n",
    "        \n",
    "        self.learner = learner = bl.BagLearner\n",
    "        self.kwargs = kwargs = {\"learner\":lrl.LinRegLearner, \"bags\":20, \"boost\":False, \"verbose\":False}\n",
    "        self.bags = bags = 20\n",
    "        self.boost = boost = False\n",
    "        \n",
    "        self.learner = learner = lrl.LinRegLearner\n",
    "        self.kwargs = kwargs \n",
    "        self.bags = bags = 20\n",
    "        self.boost = boost = False"
   ]
  },
  {
   "cell_type": "code",
   "execution_count": null,
   "metadata": {
    "collapsed": true
   },
   "outputs": [],
   "source": []
  },
  {
   "cell_type": "code",
   "execution_count": null,
   "metadata": {
    "collapsed": true
   },
   "outputs": [],
   "source": []
  },
  {
   "cell_type": "code",
   "execution_count": null,
   "metadata": {
    "collapsed": true
   },
   "outputs": [],
   "source": []
  },
  {
   "cell_type": "code",
   "execution_count": null,
   "metadata": {
    "collapsed": true
   },
   "outputs": [],
   "source": []
  },
  {
   "cell_type": "code",
   "execution_count": 41,
   "metadata": {
    "collapsed": true
   },
   "outputs": [],
   "source": [
    "kwargs = {}\n",
    "def ptest(**kwargs):\n",
    "    print \"Woa\""
   ]
  },
  {
   "cell_type": "code",
   "execution_count": 42,
   "metadata": {
    "collapsed": false
   },
   "outputs": [
    {
     "name": "stdout",
     "output_type": "stream",
     "text": [
      "Woa\n"
     ]
    }
   ],
   "source": [
    "ptest(**kwargs)"
   ]
  },
  {
   "cell_type": "code",
   "execution_count": null,
   "metadata": {
    "collapsed": true
   },
   "outputs": [],
   "source": []
  },
  {
   "cell_type": "code",
   "execution_count": null,
   "metadata": {
    "collapsed": true
   },
   "outputs": [],
   "source": []
  },
  {
   "cell_type": "code",
   "execution_count": 43,
   "metadata": {
    "collapsed": true
   },
   "outputs": [],
   "source": [
    "a = np.array([[1,2,3,4],[5,6,7,8]])"
   ]
  },
  {
   "cell_type": "code",
   "execution_count": 44,
   "metadata": {
    "collapsed": false
   },
   "outputs": [
    {
     "data": {
      "text/plain": [
       "array([[1, 2, 3, 4],\n",
       "       [5, 6, 7, 8]])"
      ]
     },
     "execution_count": 44,
     "metadata": {},
     "output_type": "execute_result"
    }
   ],
   "source": [
    "a"
   ]
  },
  {
   "cell_type": "code",
   "execution_count": 45,
   "metadata": {
    "collapsed": true
   },
   "outputs": [],
   "source": [
    "a = a.mean(axis=1)"
   ]
  },
  {
   "cell_type": "code",
   "execution_count": 46,
   "metadata": {
    "collapsed": false
   },
   "outputs": [
    {
     "data": {
      "text/plain": [
       "array([ 2.5,  6.5])"
      ]
     },
     "execution_count": 46,
     "metadata": {},
     "output_type": "execute_result"
    }
   ],
   "source": [
    "a"
   ]
  },
  {
   "cell_type": "code",
   "execution_count": null,
   "metadata": {
    "collapsed": true
   },
   "outputs": [],
   "source": []
  },
  {
   "cell_type": "code",
   "execution_count": null,
   "metadata": {
    "collapsed": true
   },
   "outputs": [],
   "source": []
  },
  {
   "cell_type": "code",
   "execution_count": null,
   "metadata": {
    "collapsed": true
   },
   "outputs": [],
   "source": []
  },
  {
   "cell_type": "code",
   "execution_count": null,
   "metadata": {
    "collapsed": true
   },
   "outputs": [],
   "source": []
  },
  {
   "cell_type": "code",
   "execution_count": null,
   "metadata": {
    "collapsed": true
   },
   "outputs": [],
   "source": []
  },
  {
   "cell_type": "code",
   "execution_count": null,
   "metadata": {
    "collapsed": true
   },
   "outputs": [],
   "source": [
    "    def query(self, dataX):\n",
    "        predY = np.empty((dataX.shape[0], self.bags))\n",
    "        \n",
    "        for j in range(0, self.bags):\n",
    "            learneri = self.learneris[j]\n",
    "            \n",
    "            predY_temp = learneri.query(dataX)\n",
    "            \n",
    "            predY[:,j] = predY_temp\n",
    "            \n",
    "        return np.mean(predY,1)"
   ]
  }
 ],
 "metadata": {
  "kernelspec": {
   "display_name": "Python 2",
   "language": "python",
   "name": "python2"
  },
  "language_info": {
   "codemirror_mode": {
    "name": "ipython",
    "version": 2
   },
   "file_extension": ".py",
   "mimetype": "text/x-python",
   "name": "python",
   "nbconvert_exporter": "python",
   "pygments_lexer": "ipython2",
   "version": "2.7.10"
  }
 },
 "nbformat": 4,
 "nbformat_minor": 0
}
