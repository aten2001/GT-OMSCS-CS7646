{
 "cells": [
  {
   "cell_type": "code",
   "execution_count": 77,
   "metadata": {
    "collapsed": false
   },
   "outputs": [
    {
     "data": {
      "text/html": [
       "<div>\n",
       "<table border=\"1\" class=\"dataframe\">\n",
       "  <thead>\n",
       "    <tr style=\"text-align: right;\">\n",
       "      <th></th>\n",
       "      <th>ISE-TL</th>\n",
       "      <th>ISE-USD</th>\n",
       "      <th>SP</th>\n",
       "      <th>DAX</th>\n",
       "      <th>FTSE</th>\n",
       "      <th>NIKKEI</th>\n",
       "      <th>BOVESPA</th>\n",
       "      <th>EU</th>\n",
       "      <th>EM</th>\n",
       "    </tr>\n",
       "  </thead>\n",
       "  <tbody>\n",
       "    <tr>\n",
       "      <th>0</th>\n",
       "      <td>0.035754</td>\n",
       "      <td>0.038376</td>\n",
       "      <td>-0.004679</td>\n",
       "      <td>0.002193</td>\n",
       "      <td>0.003894</td>\n",
       "      <td>0</td>\n",
       "      <td>0.03119</td>\n",
       "      <td>0.012698</td>\n",
       "      <td>0.028524</td>\n",
       "    </tr>\n",
       "  </tbody>\n",
       "</table>\n",
       "</div>"
      ],
      "text/plain": [
       "     ISE-TL   ISE-USD        SP       DAX      FTSE  NIKKEI  BOVESPA  \\\n",
       "0  0.035754  0.038376 -0.004679  0.002193  0.003894       0  0.03119   \n",
       "\n",
       "         EU        EM  \n",
       "0  0.012698  0.028524  "
      ]
     },
     "execution_count": 77,
     "metadata": {},
     "output_type": "execute_result"
    }
   ],
   "source": [
    "data.head(1)"
   ]
  },
  {
   "cell_type": "code",
   "execution_count": null,
   "metadata": {
    "collapsed": false
   },
   "outputs": [],
   "source": []
  },
  {
   "cell_type": "code",
   "execution_count": 87,
   "metadata": {
    "collapsed": false
   },
   "outputs": [
    {
     "name": "stdout",
     "output_type": "stream",
     "text": [
      "the secret clue is 'zzyzx'\n"
     ]
    }
   ],
   "source": [
    "import numpy as np\n",
    "\n",
    "class RTLearner(object):\n",
    "\n",
    "    def __init__(self, verbose = False):\n",
    "        pass # move along, these aren't the drones you're looking for\n",
    "\n",
    "    def author(self):\n",
    "        return 'clightsey3' # replace tb34 with your Georgia Tech username\n",
    "\n",
    "    def addEvidence(self,dataX,dataY):\n",
    "        \"\"\"\n",
    "        @summary: Add training data to learner\n",
    "        @param dataX: X values of data to add\n",
    "        @param dataY: the Y training values\n",
    "        \"\"\"\n",
    "        \n",
    "        if (dataX.shape[0] == 1): \n",
    "            np.random.seed(2)\n",
    "            rand_factor = np.random.randint(0, data.shape[1])\n",
    "            dataX.ix[0,rand_factor]\n",
    "            return \n",
    "        \n",
    "        \n",
    "    def query(self,points):\n",
    "        \"\"\"\n",
    "        @summary: Estimate a set of test points given the model we built.\n",
    "        @param points: should be a numpy array with each row corresponding to a specific query.\n",
    "        @returns the estimated values according to the saved model.\n",
    "        \"\"\"\n",
    "        return (self.model_coefs[:-1] * points).sum(axis = 1) + self.model_coefs[-1]\n",
    "\n",
    "if __name__==\"__main__\":\n",
    "    print \"the secret clue is 'zzyzx'\""
   ]
  },
  {
   "cell_type": "code",
   "execution_count": 92,
   "metadata": {
    "collapsed": false
   },
   "outputs": [
    {
     "name": "stdout",
     "output_type": "stream",
     "text": [
      "(215, 8)\n",
      "(215,)\n",
      "clightsey3\n"
     ]
    }
   ],
   "source": [
    "import math\n",
    "import pandas as pd\n",
    "\n",
    "# read data into a DataFrame\n",
    "p2file = \"/Users/C3P0/Code/OMSCS/CS7646_ML4T/Projects/MC3_P1/mc3p1_assess_learners_spring/Data/istanbul.csv\"\n",
    "data = pd.read_csv(p2file, na_values=['nan'])\n",
    "del data[\"date\"]\n",
    "\n",
    "# compute how much of the data is training and testing\n",
    "train_rows = int(0.6* data.shape[0])\n",
    "test_rows = data.shape[0] - train_rows\n",
    "\n",
    "# separate out training and testing data\n",
    "trainX = data.ix[:train_rows,0:-1]\n",
    "trainY = data.ix[:train_rows,-1]\n",
    "testX = data.ix[train_rows:,0:-1]\n",
    "testY = data.ix[train_rows:,-1]\n",
    "\n",
    "print testX.shape\n",
    "print testY.shape\n",
    "\n",
    "# create a learner and train it\n",
    "learner = lrl.LinRegLearner(verbose = True) # create a LinRegLearner\n",
    "learner.addEvidence(trainX, trainY) # train it\n",
    "print learner.author()"
   ]
  },
  {
   "cell_type": "code",
   "execution_count": 131,
   "metadata": {
    "collapsed": false
   },
   "outputs": [],
   "source": [
    "dataX = trainX\n",
    "dataY = trainY\n",
    "\n",
    "if (dataX.shape[0] == 1):\n",
    "    array = [[1, dataY[0], np.nan, np.nan]]\n",
    "    df = pd.DataFrame(array)\n",
    "elif (dataY.value_counts().count() == 1):\n",
    "    array = [[1, dataY[0], np.nan, np.nan]]\n",
    "    df = pd.DataFrame(array)\n",
    "else: \n",
    "    np.random.seed(2)\n",
    "    rand_select = np.random.randint(0, data.shape[1])\n",
    "    factor = dataX.ix[0, rand_select]"
   ]
  },
  {
   "cell_type": "code",
   "execution_count": 130,
   "metadata": {
    "collapsed": false
   },
   "outputs": [
    {
     "data": {
      "text/html": [
       "<div>\n",
       "<table border=\"1\" class=\"dataframe\">\n",
       "  <thead>\n",
       "    <tr style=\"text-align: right;\">\n",
       "      <th></th>\n",
       "      <th>0</th>\n",
       "      <th>1</th>\n",
       "      <th>2</th>\n",
       "      <th>3</th>\n",
       "    </tr>\n",
       "  </thead>\n",
       "  <tbody>\n",
       "    <tr>\n",
       "      <th>0</th>\n",
       "      <td>1</td>\n",
       "      <td>0.028524</td>\n",
       "      <td>NaN</td>\n",
       "      <td>NaN</td>\n",
       "    </tr>\n",
       "  </tbody>\n",
       "</table>\n",
       "</div>"
      ],
      "text/plain": [
       "   0         1   2   3\n",
       "0  1  0.028524 NaN NaN"
      ]
     },
     "execution_count": 130,
     "metadata": {},
     "output_type": "execute_result"
    }
   ],
   "source": [
    "df"
   ]
  },
  {
   "cell_type": "code",
   "execution_count": null,
   "metadata": {
    "collapsed": true
   },
   "outputs": [],
   "source": []
  }
 ],
 "metadata": {
  "kernelspec": {
   "display_name": "Python 2",
   "language": "python",
   "name": "python2"
  },
  "language_info": {
   "codemirror_mode": {
    "name": "ipython",
    "version": 2
   },
   "file_extension": ".py",
   "mimetype": "text/x-python",
   "name": "python",
   "nbconvert_exporter": "python",
   "pygments_lexer": "ipython2",
   "version": "2.7.10"
  }
 },
 "nbformat": 4,
 "nbformat_minor": 0
}
